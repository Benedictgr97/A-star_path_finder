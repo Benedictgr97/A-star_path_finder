{
 "cells": [
  {
   "cell_type": "code",
   "execution_count": 1,
   "metadata": {},
   "outputs": [],
   "source": [
    "#Path finding algorithm using pandas "
   ]
  },
  {
   "cell_type": "code",
   "execution_count": 2,
   "metadata": {},
   "outputs": [],
   "source": [
    "#import relevent libraries \n",
    "import numpy as np \n",
    "import pandas as pd \n",
    "import matplotlib.pyplot as plt\n",
    "import seaborn as sns\n",
    "%matplotlib inline"
   ]
  },
  {
   "cell_type": "code",
   "execution_count": 3,
   "metadata": {},
   "outputs": [],
   "source": [
    "#Define the start and end nodes \n",
    "start = (1,1)\n",
    "end = (11,16)"
   ]
  },
  {
   "cell_type": "code",
   "execution_count": 5,
   "metadata": {},
   "outputs": [
    {
     "data": {
      "text/plain": [
       "<matplotlib.axes._subplots.AxesSubplot at 0x126ce7290>"
      ]
     },
     "execution_count": 5,
     "metadata": {},
     "output_type": "execute_result"
    },
    {
     "data": {
      "image/png": "[encoded data removed]",
      "text/plain": [
       "<Figure size 432x288 with 2 Axes>"
      ]
     },
     "metadata": {
      "needs_background": "light"
     },
     "output_type": "display_data"
    }
   ],
   "source": [
    "#The intial maze with 0 being the moveable area and 1 being the wall \n",
    "initial_maze = np.array([\n",
    "    [0,0,0,0,0,0,1,0,0,0,0,1,0,0,0,0,0,0,0,0],\n",
    "    [0,0,0,0,0,0,1,0,0,0,0,1,0,0,0,1,0,0,0,0],\n",
    "    [0,0,0,0,0,0,1,0,0,0,0,1,0,0,0,1,0,0,0,0],\n",
    "    [0,0,0,0,0,0,1,0,0,0,0,1,0,0,0,1,0,0,0,0],\n",
    "    [0,0,0,0,0,1,0,0,0,0,0,1,0,0,0,1,0,0,0,0],\n",
    "    [0,0,0,0,1,0,0,0,0,0,1,0,0,0,0,1,0,0,0,0],\n",
    "    [0,1,1,1,0,0,0,0,0,1,0,0,0,0,0,1,0,0,0,0],\n",
    "    [0,0,0,0,0,0,0,0,1,0,0,0,0,0,0,1,0,0,0,0],\n",
    "    [0,0,0,0,0,0,0,1,0,0,0,1,1,1,1,1,0,0,0,0],\n",
    "    [0,0,0,0,0,0,1,0,0,0,1,0,0,0,0,0,0,0,0,0],\n",
    "    [0,0,0,0,0,1,0,0,1,1,0,0,0,0,0,0,0,0,0,0],\n",
    "    [0,0,0,0,0,0,0,1,0,0,0,0,0,0,0,0,0,0,0,0],\n",
    "    [0,0,0,0,0,0,0,1,0,0,0,0,0,0,0,0,0,0,0,0],\n",
    "    [0,0,0,0,0,0,0,1,0,0,0,0,0,0,0,0,0,0,0,0],\n",
    "] ,dtype = 'int')\n",
    "\n",
    "#makes a copy of the maze such that each function can use its own iteration and not the original \n",
    "maze = initial_maze.copy()\n",
    "#Shows the start and end points and sets up seaborn to show the maze graphically\n",
    "maze[start[0]][start[1]] = 10\n",
    "maze[end[0]][end[1]] = 10\n",
    "\n",
    "\n",
    "current_palette = sns.color_palette()\n",
    "sns.heatmap(maze,cmap = 'Paired')"
   ]
  },
  {
   "cell_type": "code",
   "execution_count": 6,
   "metadata": {},
   "outputs": [],
   "source": [
    "#function that shows the node next to it with the direction of X and Y put in \n",
    "def nxt_node(node,Xdir,Ydir):\n",
    "    nxt = [ int(node[0]+Xdir) , int(node[1]+Ydir) ]\n",
    "    return nxt\n",
    "\n",
    "#finds the distance between two vectors that are input as tuples \n",
    "def distance(vec_1,vec_2):\n",
    "    dist = (vec_1[0] - vec_2[0])**2 + (vec_1[1] - vec_2[1])**2\n",
    "    return np.sqrt(dist)\n",
    "\n",
    "#Define an a* magnitude distance using initial and final points\n",
    "def a_star_mag(start,end,vector):\n",
    "    return [distance(start,vector) + distance(end,vector)]\n"
   ]
  },
  {
   "cell_type": "code",
   "execution_count": 7,
   "metadata": {},
   "outputs": [],
   "source": [
    "#distance from start to end \n",
    "dist = distance(start,end)\n",
    "\n",
    "#The new values the function finds that might be used for the path \n",
    "df_new = pd.DataFrame(np.array([[start[0],start[0],dist,start[0],start[0]]]),columns = ['X','Y','Dist','X_from','Y_from'])\n",
    "\n",
    "#The shorter points that are expanded on and used in the path at the end \n",
    "df_posbl = pd.DataFrame(columns = ['X','Y','Dist','X_from','Y_from'])\n",
    "\n",
    "#Initialises vec_short that is used to find the shortest vector \n",
    "vec_short = 0\n",
    "\n",
    "#Function that builds out from shortest point to adjacent \n",
    "def next_point(nxt_node,maze,a_star_mag,start,end):\n",
    "\n",
    "    #Make them global so the function can use them without reasigning them each time\n",
    "    global df_new\n",
    "    global df_posbl\n",
    "    global vec_short\n",
    "    \n",
    "    #Sorts the values to be explored by distance\n",
    "    df_new = df_new.sort_values(by = ['Dist'])\n",
    "    \n",
    "    #Shows the minimum a* min distance \n",
    "    min_dis = df_new['Dist'].iloc[0]\n",
    "    \n",
    "    #Finds the vector with the minimum a* mag distance \n",
    "    vec_short = df_new[df_new['Dist'] == min_dis].iloc[0]\n",
    "    \n",
    "    #Adds the new shortest vector to the dataframe of the possible path dataframe\n",
    "    df_posbl = df_posbl.append(df_new[df_new['Dist'] == min_dis])\n",
    "    \n",
    "    #Make the new points on the data frame if point = 0 else if point = 1 its a boundry \n",
    "    #Distace to each point also included \n",
    "    a = nxt_node(vec_short,1,0)  \n",
    "    a += a_star_mag(start,end,a) \n",
    "    \n",
    "    b = nxt_node(vec_short,-1,0) \n",
    "    b += a_star_mag(start,end,b)\n",
    "    \n",
    "    c = nxt_node(vec_short,0,1)\n",
    "    c += a_star_mag(start,end,c)\n",
    "                 \n",
    "    d = nxt_node(vec_short,0,-1)\n",
    "    d += a_star_mag(start,end,d)\n",
    "    \n",
    "    #Locations that are being explored (5 so it can be seen on the final seaborn plot)\n",
    "    maze[int(df_posbl['X'].iloc[-1])][int(df_posbl['Y'].iloc[-1])] = 5 \n",
    "    \n",
    "    #Drop shortest vector from the dataframe so it is not re used \n",
    "    df_new = df_new.sort_values(by = ['Dist'])\n",
    "    df_new.drop([0],inplace = True)\n",
    "    \n",
    "    #Dataframe of new points and append to df_new and check to see if its the path dataframe\n",
    "    #Checks if the point has already been identified \n",
    "    for i in [a,b,c,d]:\n",
    "        \n",
    "        #Shows which node the last node came from \n",
    "        i += [vec_short[0],vec_short[1]]\n",
    "        \n",
    "        #Checks to see if its the edge of the maze \n",
    "        if len(maze) < i[0]+1 or len(maze[0]) < i[1]+1 or i[0]<0 or i[1]<0:\n",
    "            pass\n",
    "        \n",
    "        #Checks if the maze area is a wall  \n",
    "        elif maze[i[0]][i[1]] == 1: \n",
    "            pass\n",
    "        \n",
    "        #Checks if the point has already been investigated on the path exploritory dataframe \n",
    "        elif df_posbl[['X','Y','Dist']].isin([i[0],i[1],i[2]]).all(axis = 1).any():\n",
    "            pass\n",
    "             \n",
    "        #Adds each point to the Exploaritory dataframe \n",
    "        else:\n",
    "            update_frame = pd.DataFrame(np.array([i]),columns = ['X','Y','Dist','X_from','Y_from'])\n",
    "            df_new = df_new.append(update_frame) \n",
    "            #Shows these explored points on the map \n",
    "            maze[i[0]][i[1]] = 4\n",
    "     \n",
    "    #Makes sure there are no duplicate value\n",
    "    df_new.drop_duplicates(inplace = True)\n",
    "    \n",
    "    #Resets the index ready to order it again and pick the next value on the next iteration using iloc\n",
    "    df_posbl.reset_index(drop = True,inplace = True)\n",
    "    df_new.reset_index(drop = True,inplace = True)\n",
    "    \n",
    "    "
   ]
  },
  {
   "cell_type": "code",
   "execution_count": 8,
   "metadata": {},
   "outputs": [
    {
     "data": {
      "text/plain": [
       "<matplotlib.axes._subplots.AxesSubplot at 0x126e28f90>"
      ]
     },
     "execution_count": 8,
     "metadata": {},
     "output_type": "execute_result"
    },
    {
     "data": {
      "image/png": "[encoded data removed]",
      "text/plain": [
       "<Figure size 432x288 with 2 Axes>"
      ]
     },
     "metadata": {
      "needs_background": "light"
     },
     "output_type": "display_data"
    }
   ],
   "source": [
    "posbl_maze = initial_maze.copy()\n",
    "\n",
    "#Initialises first point so rec_astar can use it as it can compare empty dataframes \n",
    "next_point(nxt_node,posbl_maze ,a_star_mag,start,end)\n",
    "\n",
    "#Recursion of the next point function till the end value is found \n",
    "def rec_astar():\n",
    "    global vec_short \n",
    "    if [vec_short['X'],vec_short['Y']] == [float(end[0]) , float(end[1])] :\n",
    "        return posbl_maze\n",
    "    else:\n",
    "        next_point(nxt_node,posbl_maze ,a_star_mag,start,end)\n",
    "        rec_astar()\n",
    "\n",
    "#Run the funtion \n",
    "rec_astar()  \n",
    "\n",
    "#Sets the start and end points on the map and shows the area the algorithm explored \n",
    "posbl_maze[start[0]][start[1]] = 10\n",
    "posbl_maze[end[0]][end[1]] = 10\n",
    "sns.heatmap(posbl_maze,cmap = 'Paired')"
   ]
  },
  {
   "cell_type": "code",
   "execution_count": 9,
   "metadata": {},
   "outputs": [],
   "source": [
    "maze_fin = initial_maze.copy()\n",
    "\n",
    "#Sets the start and end points on the map\n",
    "maze_fin[start[0]][start[1]] = 10\n",
    "maze_fin[end[0]][end[1]] = 10\n",
    "back_node = vec_short\n",
    "\n",
    "#While look going back through where the end point come from to get to start point\n",
    "while tuple(back_node[['X_from','Y_from']]) != start:\n",
    "\n",
    "    back_node = df_posbl[(df_posbl['X'] == back_node['X_from']) & (df_posbl['Y'] == back_node['Y_from'])]\n",
    "    \n",
    "    #iloc needed to make it the same dataframe dimensions as df_posbl to copare as vec_short uses this earlier\n",
    "    back_node = back_node.iloc[0]\n",
    "    \n",
    "    #Updates the maze\n",
    "    maze_fin[int(back_node['X'])][int(back_node['Y'])] = 7"
   ]
  },
  {
   "cell_type": "code",
   "execution_count": 10,
   "metadata": {},
   "outputs": [
    {
     "data": {
      "text/plain": [
       "<matplotlib.axes._subplots.AxesSubplot at 0x126fa5b50>"
      ]
     },
     "execution_count": 10,
     "metadata": {},
     "output_type": "execute_result"
    },
    {
     "data": {
      "image/png": "[encoded data removed]",
      "text/plain": [
       "<Figure size 432x288 with 2 Axes>"
      ]
     },
     "metadata": {
      "needs_background": "light"
     },
     "output_type": "display_data"
    }
   ],
   "source": [
    "sns.heatmap(maze_fin,cmap = 'Paired')"
   ]
  },
  {
   "cell_type": "code",
   "execution_count": null,
   "metadata": {},
   "outputs": [],
   "source": []
  },
  {
   "cell_type": "code",
   "execution_count": null,
   "metadata": {},
   "outputs": [],
   "source": []
  },
  {
   "cell_type": "code",
   "execution_count": null,
   "metadata": {},
   "outputs": [],
   "source": []
  },
  {
   "cell_type": "code",
   "execution_count": null,
   "metadata": {},
   "outputs": [],
   "source": []
  },
  {
   "cell_type": "code",
   "execution_count": null,
   "metadata": {},
   "outputs": [],
   "source": []
  }
 ],
 "metadata": {
  "kernelspec": {
   "display_name": "Python 3",
   "language": "python",
   "name": "python3"
  },
  "language_info": {
   "codemirror_mode": {
    "name": "ipython",
    "version": 3
   },
   "file_extension": ".py",
   "mimetype": "text/x-python",
   "name": "python",
   "nbconvert_exporter": "python",
   "pygments_lexer": "ipython3",
   "version": "3.7.4"
  }
 },
 "nbformat": 4,
 "nbformat_minor": 2
}
